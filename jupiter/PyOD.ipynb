{
 "cells": [
  {
   "cell_type": "code",
   "execution_count": 1,
   "id": "7928888c",
   "metadata": {},
   "outputs": [],
   "source": [
    "import pandas as pd\n",
    "import numpy as np\n",
    "import matplotlib.pyplot as plt\n",
    "from sklearn.model_selection import train_test_split\n",
    "from sklearn.preprocessing import StandardScaler\n",
    "from sklearn.preprocessing import LabelEncoder\n",
    "from pyod.models.lof import LOF\n",
    "from pyod.utils.data import evaluate_print\n",
    "from pyod.utils.example import visualize\n",
    "\n",
    "# Loading the dataset\n",
    "data = pd.read_csv(\"crop_recommendation.csv\") "
   ]
  },
  {
   "cell_type": "code",
   "execution_count": 2,
   "id": "14c10b49",
   "metadata": {},
   "outputs": [
    {
     "data": {
      "text/html": [
       "<div>\n",
       "<style scoped>\n",
       "    .dataframe tbody tr th:only-of-type {\n",
       "        vertical-align: middle;\n",
       "    }\n",
       "\n",
       "    .dataframe tbody tr th {\n",
       "        vertical-align: top;\n",
       "    }\n",
       "\n",
       "    .dataframe thead th {\n",
       "        text-align: right;\n",
       "    }\n",
       "</style>\n",
       "<table border=\"1\" class=\"dataframe\">\n",
       "  <thead>\n",
       "    <tr style=\"text-align: right;\">\n",
       "      <th></th>\n",
       "      <th>N</th>\n",
       "      <th>P</th>\n",
       "      <th>K</th>\n",
       "      <th>temperature</th>\n",
       "      <th>humidity</th>\n",
       "      <th>ph</th>\n",
       "      <th>rainfall</th>\n",
       "      <th>label</th>\n",
       "    </tr>\n",
       "  </thead>\n",
       "  <tbody>\n",
       "    <tr>\n",
       "      <th>0</th>\n",
       "      <td>90</td>\n",
       "      <td>42</td>\n",
       "      <td>43</td>\n",
       "      <td>20.879744</td>\n",
       "      <td>82.002744</td>\n",
       "      <td>6.502985</td>\n",
       "      <td>202.935536</td>\n",
       "      <td>rice</td>\n",
       "    </tr>\n",
       "    <tr>\n",
       "      <th>1</th>\n",
       "      <td>85</td>\n",
       "      <td>58</td>\n",
       "      <td>41</td>\n",
       "      <td>21.770462</td>\n",
       "      <td>80.319644</td>\n",
       "      <td>7.038096</td>\n",
       "      <td>226.655537</td>\n",
       "      <td>rice</td>\n",
       "    </tr>\n",
       "    <tr>\n",
       "      <th>2</th>\n",
       "      <td>60</td>\n",
       "      <td>55</td>\n",
       "      <td>44</td>\n",
       "      <td>23.004459</td>\n",
       "      <td>82.320763</td>\n",
       "      <td>7.840207</td>\n",
       "      <td>263.964248</td>\n",
       "      <td>rice</td>\n",
       "    </tr>\n",
       "    <tr>\n",
       "      <th>3</th>\n",
       "      <td>74</td>\n",
       "      <td>35</td>\n",
       "      <td>40</td>\n",
       "      <td>26.491096</td>\n",
       "      <td>80.158363</td>\n",
       "      <td>6.980401</td>\n",
       "      <td>242.864034</td>\n",
       "      <td>rice</td>\n",
       "    </tr>\n",
       "    <tr>\n",
       "      <th>4</th>\n",
       "      <td>78</td>\n",
       "      <td>42</td>\n",
       "      <td>42</td>\n",
       "      <td>20.130175</td>\n",
       "      <td>81.604873</td>\n",
       "      <td>7.628473</td>\n",
       "      <td>262.717340</td>\n",
       "      <td>rice</td>\n",
       "    </tr>\n",
       "    <tr>\n",
       "      <th>...</th>\n",
       "      <td>...</td>\n",
       "      <td>...</td>\n",
       "      <td>...</td>\n",
       "      <td>...</td>\n",
       "      <td>...</td>\n",
       "      <td>...</td>\n",
       "      <td>...</td>\n",
       "      <td>...</td>\n",
       "    </tr>\n",
       "    <tr>\n",
       "      <th>2195</th>\n",
       "      <td>107</td>\n",
       "      <td>34</td>\n",
       "      <td>32</td>\n",
       "      <td>26.774637</td>\n",
       "      <td>66.413269</td>\n",
       "      <td>6.780064</td>\n",
       "      <td>177.774507</td>\n",
       "      <td>coffee</td>\n",
       "    </tr>\n",
       "    <tr>\n",
       "      <th>2196</th>\n",
       "      <td>99</td>\n",
       "      <td>15</td>\n",
       "      <td>27</td>\n",
       "      <td>27.417112</td>\n",
       "      <td>56.636362</td>\n",
       "      <td>6.086922</td>\n",
       "      <td>127.924610</td>\n",
       "      <td>coffee</td>\n",
       "    </tr>\n",
       "    <tr>\n",
       "      <th>2197</th>\n",
       "      <td>118</td>\n",
       "      <td>33</td>\n",
       "      <td>30</td>\n",
       "      <td>24.131797</td>\n",
       "      <td>67.225123</td>\n",
       "      <td>6.362608</td>\n",
       "      <td>173.322839</td>\n",
       "      <td>coffee</td>\n",
       "    </tr>\n",
       "    <tr>\n",
       "      <th>2198</th>\n",
       "      <td>117</td>\n",
       "      <td>32</td>\n",
       "      <td>34</td>\n",
       "      <td>26.272418</td>\n",
       "      <td>52.127394</td>\n",
       "      <td>6.758793</td>\n",
       "      <td>127.175293</td>\n",
       "      <td>coffee</td>\n",
       "    </tr>\n",
       "    <tr>\n",
       "      <th>2199</th>\n",
       "      <td>104</td>\n",
       "      <td>18</td>\n",
       "      <td>30</td>\n",
       "      <td>23.603016</td>\n",
       "      <td>60.396475</td>\n",
       "      <td>6.779833</td>\n",
       "      <td>140.937041</td>\n",
       "      <td>coffee</td>\n",
       "    </tr>\n",
       "  </tbody>\n",
       "</table>\n",
       "<p>2200 rows × 8 columns</p>\n",
       "</div>"
      ],
      "text/plain": [
       "        N   P   K  temperature   humidity        ph    rainfall   label\n",
       "0      90  42  43    20.879744  82.002744  6.502985  202.935536    rice\n",
       "1      85  58  41    21.770462  80.319644  7.038096  226.655537    rice\n",
       "2      60  55  44    23.004459  82.320763  7.840207  263.964248    rice\n",
       "3      74  35  40    26.491096  80.158363  6.980401  242.864034    rice\n",
       "4      78  42  42    20.130175  81.604873  7.628473  262.717340    rice\n",
       "...   ...  ..  ..          ...        ...       ...         ...     ...\n",
       "2195  107  34  32    26.774637  66.413269  6.780064  177.774507  coffee\n",
       "2196   99  15  27    27.417112  56.636362  6.086922  127.924610  coffee\n",
       "2197  118  33  30    24.131797  67.225123  6.362608  173.322839  coffee\n",
       "2198  117  32  34    26.272418  52.127394  6.758793  127.175293  coffee\n",
       "2199  104  18  30    23.603016  60.396475  6.779833  140.937041  coffee\n",
       "\n",
       "[2200 rows x 8 columns]"
      ]
     },
     "execution_count": 2,
     "metadata": {},
     "output_type": "execute_result"
    }
   ],
   "source": [
    "#displaying the data\n",
    "data"
   ]
  },
  {
   "cell_type": "code",
   "execution_count": 3,
   "id": "74c28e1b",
   "metadata": {},
   "outputs": [],
   "source": [
    "# Separating  features and labels\n",
    "X = data.iloc[:, :-1].values  # Features: N, P, K, temperature, humidity, ph, rainfall\n",
    "y = data.iloc[:, -1].values    # Labels"
   ]
  },
  {
   "cell_type": "code",
   "execution_count": 4,
   "id": "b6593917",
   "metadata": {},
   "outputs": [
    {
     "data": {
      "text/plain": [
       "array([[ 90.        ,  42.        ,  43.        , ...,  82.00274423,\n",
       "          6.50298529, 202.9355362 ],\n",
       "       [ 85.        ,  58.        ,  41.        , ...,  80.31964408,\n",
       "          7.03809636, 226.6555374 ],\n",
       "       [ 60.        ,  55.        ,  44.        , ...,  82.3207629 ,\n",
       "          7.84020714, 263.9642476 ],\n",
       "       ...,\n",
       "       [118.        ,  33.        ,  30.        , ...,  67.22512329,\n",
       "          6.36260785, 173.3228386 ],\n",
       "       [117.        ,  32.        ,  34.        , ...,  52.12739421,\n",
       "          6.75879255, 127.1752928 ],\n",
       "       [104.        ,  18.        ,  30.        , ...,  60.39647474,\n",
       "          6.77983261, 140.9370415 ]])"
      ]
     },
     "execution_count": 4,
     "metadata": {},
     "output_type": "execute_result"
    }
   ],
   "source": [
    "X"
   ]
  },
  {
   "cell_type": "code",
   "execution_count": 5,
   "id": "5153e453",
   "metadata": {},
   "outputs": [
    {
     "data": {
      "text/plain": [
       "array(['rice', 'rice', 'rice', ..., 'coffee', 'coffee', 'coffee'],\n",
       "      dtype=object)"
      ]
     },
     "execution_count": 5,
     "metadata": {},
     "output_type": "execute_result"
    }
   ],
   "source": [
    "y"
   ]
  },
  {
   "cell_type": "code",
   "execution_count": 6,
   "id": "bdd95171",
   "metadata": {},
   "outputs": [],
   "source": [
    "# Split data into train and test sets\n",
    "X_train, X_test, y_train, y_test = train_test_split(X, y, test_size=0.2, random_state=42)\n"
   ]
  },
  {
   "cell_type": "code",
   "execution_count": 7,
   "id": "1fe27a8c",
   "metadata": {},
   "outputs": [
    {
     "data": {
      "text/plain": [
       "(1760, 7)"
      ]
     },
     "execution_count": 7,
     "metadata": {},
     "output_type": "execute_result"
    }
   ],
   "source": [
    "X_train.shape"
   ]
  },
  {
   "cell_type": "code",
   "execution_count": 8,
   "id": "0de57507",
   "metadata": {},
   "outputs": [
    {
     "data": {
      "text/plain": [
       "(440, 7)"
      ]
     },
     "execution_count": 8,
     "metadata": {},
     "output_type": "execute_result"
    }
   ],
   "source": [
    "X_test.shape"
   ]
  },
  {
   "cell_type": "code",
   "execution_count": 9,
   "id": "da75a97b",
   "metadata": {},
   "outputs": [
    {
     "data": {
      "text/plain": [
       "(1760,)"
      ]
     },
     "execution_count": 9,
     "metadata": {},
     "output_type": "execute_result"
    }
   ],
   "source": [
    "y_train.shape"
   ]
  },
  {
   "cell_type": "code",
   "execution_count": 10,
   "id": "2d6e0765",
   "metadata": {},
   "outputs": [
    {
     "data": {
      "text/plain": [
       "(440,)"
      ]
     },
     "execution_count": 10,
     "metadata": {},
     "output_type": "execute_result"
    }
   ],
   "source": [
    "y_test.shape"
   ]
  },
  {
   "cell_type": "code",
   "execution_count": 11,
   "id": "7552dd59",
   "metadata": {},
   "outputs": [],
   "source": [
    "# Scale the features\n",
    "scaler = StandardScaler()\n",
    "X_train_scaled = scaler.fit_transform(X_train)\n",
    "X_test_scaled = scaler.transform(X_test)"
   ]
  },
  {
   "cell_type": "code",
   "execution_count": 12,
   "id": "948dad1b",
   "metadata": {},
   "outputs": [
    {
     "data": {
      "text/plain": [
       "array([[-9.03426596e-01, -1.12616170e+00, -6.68506601e-01, ...,\n",
       "         9.36586183e-01,  1.93473784e-01,  5.14970176e-03],\n",
       "       [-3.67051340e-01,  7.70358846e-01, -5.70589522e-01, ...,\n",
       "        -1.00470485e-01,  8.63917548e-01, -6.05290566e-01],\n",
       "       [-1.17161422e+00,  5.89737842e-01, -4.53089028e-01, ...,\n",
       "        -3.82774991e-01,  1.05029771e+00, -1.04580687e+00],\n",
       "       ...,\n",
       "       [-1.06433917e+00, -5.24091685e-01, -3.35588533e-01, ...,\n",
       "        -8.98381379e-01, -6.34357580e-04, -4.37358211e-02],\n",
       "       [-1.06433917e+00,  2.12501638e+00,  3.05234239e+00, ...,\n",
       "         3.86340190e-01, -1.48467347e-01, -5.69036842e-01],\n",
       "       [-5.01145154e-01,  7.40255346e-01, -5.11839275e-01, ...,\n",
       "        -4.18045489e-01,  6.86860180e-01, -8.96531475e-01]])"
      ]
     },
     "execution_count": 12,
     "metadata": {},
     "output_type": "execute_result"
    }
   ],
   "source": [
    "X_train_scaled"
   ]
  },
  {
   "cell_type": "code",
   "execution_count": 13,
   "id": "196462d7",
   "metadata": {},
   "outputs": [
    {
     "data": {
      "text/plain": [
       "array([[ 1.34934948, -1.0960582 , -0.02225388, ...,  1.05232434,\n",
       "        -0.37619899, -1.38984486],\n",
       "       [ 1.26889319, -1.36698971,  0.05607978, ...,  0.67956909,\n",
       "        -0.28013033, -0.96895253],\n",
       "       [ 0.22296144,  0.25859933,  0.01691295, ...,  0.98974316,\n",
       "         0.60209743,  0.22056087],\n",
       "       ...,\n",
       "       [ 1.88572474, -0.19295318, -0.62933977, ...,  0.35134079,\n",
       "         1.61311363, -0.54905776],\n",
       "       [ 1.75163092, -0.04243567, -0.57058952, ...,  0.1731198 ,\n",
       "        -0.46741089, -0.64767698],\n",
       "       [-1.22525175,  0.43922034, -0.55100611, ..., -1.74645651,\n",
       "        -0.45817577,  0.95946086]])"
      ]
     },
     "execution_count": 13,
     "metadata": {},
     "output_type": "execute_result"
    }
   ],
   "source": [
    "X_test_scaled"
   ]
  },
  {
   "cell_type": "code",
   "execution_count": 14,
   "id": "fefabf1b",
   "metadata": {},
   "outputs": [
    {
     "data": {
      "text/plain": [
       "LOF(algorithm='auto', contamination=0.1, leaf_size=30, metric='minkowski',\n",
       "  metric_params=None, n_jobs=1, n_neighbors=20, novelty=True, p=2)"
      ]
     },
     "execution_count": 14,
     "metadata": {},
     "output_type": "execute_result"
    }
   ],
   "source": [
    "# Train LOF model\n",
    "lof = LOF(contamination=0.1)  \n",
    "lof.fit(X_train_scaled)"
   ]
  },
  {
   "cell_type": "code",
   "execution_count": 15,
   "id": "f4fb27f0",
   "metadata": {},
   "outputs": [
    {
     "data": {
      "text/plain": [
       "array([1.07109314, 0.98042539, 1.00152026, ..., 1.00290941, 0.98656512,\n",
       "       1.01539136])"
      ]
     },
     "execution_count": 15,
     "metadata": {},
     "output_type": "execute_result"
    }
   ],
   "source": [
    "#################################################################\n",
    "# Predictions on train and test data\n",
    "train_outlier_scores = lof.decision_function(X_train_scaled)\n",
    "test_outlier_scores = lof.decision_function(X_test_scaled)\n",
    "train_outlier_scores"
   ]
  },
  {
   "cell_type": "code",
   "execution_count": 16,
   "id": "f183bd4d",
   "metadata": {},
   "outputs": [
    {
     "data": {
      "text/plain": [
       "array([0.95576267, 0.98834425, 1.0451848 , 1.01514467, 0.98698879,\n",
       "       1.03810964, 1.05523707, 1.05875563, 1.02729456, 1.06258999,\n",
       "       0.99840311, 1.05101079, 0.99328536, 1.00343318, 1.01116039,\n",
       "       1.04227601, 1.01504008, 1.02042012, 1.20561252, 0.96547037,\n",
       "       0.99011143, 1.09286009, 1.24254227, 1.15543032, 0.97986812,\n",
       "       0.97740869, 1.03103821, 1.03693163, 1.12011843, 1.01129802,\n",
       "       1.00685301, 1.01306521, 0.99795183, 1.07728162, 0.9968305 ,\n",
       "       0.96313223, 0.97633844, 1.05632605, 1.05035927, 1.05720034,\n",
       "       1.26312179, 0.9819389 , 1.03015022, 0.99568635, 1.11324907,\n",
       "       0.99843318, 1.26272387, 1.00300644, 1.0539781 , 1.02232781,\n",
       "       1.12262551, 1.0323564 , 1.13218496, 1.00413478, 1.0269478 ,\n",
       "       0.9969048 , 1.02952051, 0.96135678, 0.98526973, 1.01525849,\n",
       "       0.99750411, 1.00677421, 1.03914217, 1.10396883, 1.30212023,\n",
       "       1.12053091, 1.25502259, 1.07087159, 1.00454432, 1.48738499,\n",
       "       1.03940475, 1.01658402, 0.98916244, 0.99081472, 0.99921147,\n",
       "       1.02115275, 0.97029968, 1.00290385, 1.06698549, 1.03190385,\n",
       "       1.0337752 , 1.02626099, 1.07756697, 0.99525044, 1.06249449,\n",
       "       0.99542534, 0.99778862, 1.09547363, 0.98360865, 1.06984151,\n",
       "       1.00163293, 1.14059234, 0.99625538, 1.10962689, 1.52614698,\n",
       "       1.08001802, 0.96368447, 1.07128335, 0.9845929 , 1.05383056,\n",
       "       0.99236966, 1.03482282, 1.14929031, 1.05720202, 1.02238687,\n",
       "       1.17071319, 0.99217047, 1.0714466 , 1.18110756, 1.32422502,\n",
       "       1.03467563, 0.9615505 , 1.00535846, 0.98385235, 1.12041679,\n",
       "       1.12337224, 1.03221962, 0.98851459, 0.99682375, 1.08003054,\n",
       "       1.1083253 , 1.05138983, 0.96411329, 0.98481922, 1.02050059,\n",
       "       1.08147607, 1.00745491, 1.00688395, 1.02248966, 1.31351485,\n",
       "       1.03125633, 1.19913027, 0.98740397, 1.19280236, 0.98913572,\n",
       "       1.00582595, 1.30383798, 0.93884342, 1.00323359, 1.01661604,\n",
       "       1.10291547, 1.04042111, 0.97409503, 1.22091913, 1.04389566,\n",
       "       1.04645167, 1.02438063, 1.00146542, 0.99618474, 1.18219751,\n",
       "       1.00767328, 1.11376676, 1.11546721, 0.98353933, 1.27909089,\n",
       "       1.12489464, 1.02092559, 0.97965743, 0.99455383, 0.97407595,\n",
       "       1.04043147, 0.97992456, 1.05446623, 0.99636857, 1.15198134,\n",
       "       0.97188735, 1.09333928, 1.00094595, 0.99444961, 1.01426011,\n",
       "       1.07529153, 0.97936411, 0.9841104 , 1.00833816, 0.98959039,\n",
       "       0.97900523, 0.99538772, 1.02008283, 0.96557179, 1.01213089,\n",
       "       1.02947171, 1.05563969, 1.10564689, 0.99412335, 1.35442405,\n",
       "       0.98977424, 1.04804307, 0.99254413, 0.99136874, 1.19190371,\n",
       "       0.98703759, 1.03846473, 1.01769223, 1.04259302, 0.97636615,\n",
       "       1.14246493, 1.00911762, 0.97459756, 1.06654557, 1.00417233,\n",
       "       1.00071735, 1.07880513, 0.99507541, 1.15284949, 1.05675738,\n",
       "       0.99401863, 1.00061781, 1.01468795, 0.96424698, 1.05904586,\n",
       "       1.00801594, 0.98689451, 0.98696163, 1.06992914, 1.04334978,\n",
       "       1.01158172, 0.97420444, 1.21315074, 0.97249164, 1.04077751,\n",
       "       0.95288356, 1.06009711, 0.97767015, 0.97139828, 1.02797738,\n",
       "       0.95339898, 1.19989393, 1.02438955, 0.99585086, 0.95174775,\n",
       "       1.03490161, 1.01859252, 1.01870827, 1.01591851, 0.9824163 ,\n",
       "       1.01470053, 0.97728311, 0.9942351 , 1.07540869, 1.03990504,\n",
       "       1.04539102, 1.12678501, 1.03582621, 1.00493533, 1.01019316,\n",
       "       0.97081363, 1.32450553, 1.05916477, 1.0343728 , 1.01272268,\n",
       "       1.02765618, 1.0923705 , 1.17037769, 1.03409586, 1.00926388,\n",
       "       1.1357276 , 1.06147963, 0.99339208, 1.00793948, 1.00704637,\n",
       "       1.01481973, 1.06231114, 1.19088913, 1.01325871, 1.03850029,\n",
       "       1.19784355, 1.12891433, 1.1032409 , 1.02035827, 1.0421763 ,\n",
       "       1.03267842, 1.00358317, 1.02566318, 1.06954809, 1.13233547,\n",
       "       1.02202605, 1.03089539, 0.98748869, 0.9730936 , 0.99694849,\n",
       "       0.97965013, 1.02658412, 1.10795753, 1.11718367, 1.09208621,\n",
       "       1.01221902, 1.00023984, 1.10264811, 1.21245868, 1.01009322,\n",
       "       1.06366073, 1.02979969, 1.01036895, 1.02246161, 0.99219628,\n",
       "       1.23660754, 1.08442742, 1.01859403, 1.0127399 , 1.00893171,\n",
       "       1.00731493, 1.02397889, 1.10594421, 1.15278523, 0.99420303,\n",
       "       0.98832581, 1.2614104 , 1.08250296, 1.00723152, 0.95372761,\n",
       "       1.01709823, 1.00966933, 0.99152386, 1.02143545, 1.00052912,\n",
       "       1.03924621, 1.07822931, 1.04680956, 0.99388686, 1.02737299,\n",
       "       1.07952919, 0.95412142, 0.99612475, 1.00465124, 0.98953159,\n",
       "       1.06186732, 0.99110701, 1.0347685 , 1.0003985 , 1.66957331,\n",
       "       0.96540253, 1.00162987, 1.0010043 , 1.04391399, 0.98747417,\n",
       "       1.0143731 , 1.0063457 , 1.06244725, 1.04460307, 0.99576131,\n",
       "       1.03399691, 1.02762481, 0.99860122, 1.10909796, 1.07210829,\n",
       "       1.00816102, 1.04447935, 0.99745218, 1.05378341, 0.97470927,\n",
       "       1.00968605, 1.0937864 , 1.03760069, 0.97407578, 0.99491557,\n",
       "       1.04623934, 0.97288121, 0.9969092 , 1.02280591, 1.26350713,\n",
       "       1.13546264, 1.13079467, 0.96277198, 0.99586643, 1.04119432,\n",
       "       1.09251596, 0.99695615, 0.9695272 , 1.23563649, 1.00838267,\n",
       "       1.05038851, 1.0411855 , 1.00693579, 1.02864718, 1.31568848,\n",
       "       1.13310628, 0.97411224, 1.0368991 , 1.00818923, 1.00696493,\n",
       "       1.01182147, 0.98244817, 1.00140998, 1.01254864, 1.11745698,\n",
       "       1.09969488, 1.01810777, 1.00832903, 0.97552766, 1.07715488,\n",
       "       1.0170832 , 1.0505643 , 1.08658598, 1.08648021, 0.99293581,\n",
       "       1.00296622, 1.01671641, 1.05163217, 1.01812047, 1.00328805,\n",
       "       0.96498074, 0.98550203, 0.9821723 , 1.07075466, 1.01481616,\n",
       "       1.1210298 , 0.97096145, 0.97424852, 1.02229818, 0.98008712,\n",
       "       1.21159203, 0.98544534, 1.12226597, 1.13529278, 1.03765872,\n",
       "       0.99053492, 1.05431447, 1.05622892, 1.03286953, 1.00002187,\n",
       "       1.07234625, 1.03391637, 0.98666324, 1.29916107, 1.09241799,\n",
       "       0.97985875, 1.14403236, 1.03519449, 1.02141702, 1.05354542,\n",
       "       1.03980834, 0.9726839 , 1.03347413, 1.07445857, 0.97345996,\n",
       "       1.07889604, 1.06610136, 1.01081865, 0.9832006 , 1.27444745])"
      ]
     },
     "execution_count": 16,
     "metadata": {},
     "output_type": "execute_result"
    }
   ],
   "source": [
    "test_outlier_scores"
   ]
  },
  {
   "cell_type": "code",
   "execution_count": 17,
   "id": "c7a944f6",
   "metadata": {},
   "outputs": [
    {
     "name": "stdout",
     "output_type": "stream",
     "text": [
      "Outlier scores for test data: [0.95576267 0.98834425 1.0451848  1.01514467 0.98698879 1.03810964\n",
      " 1.05523707 1.05875563 1.02729456 1.06258999 0.99840311 1.05101079\n",
      " 0.99328536 1.00343318 1.01116039 1.04227601 1.01504008 1.02042012\n",
      " 1.20561252 0.96547037 0.99011143 1.09286009 1.24254227 1.15543032\n",
      " 0.97986812 0.97740869 1.03103821 1.03693163 1.12011843 1.01129802\n",
      " 1.00685301 1.01306521 0.99795183 1.07728162 0.9968305  0.96313223\n",
      " 0.97633844 1.05632605 1.05035927 1.05720034 1.26312179 0.9819389\n",
      " 1.03015022 0.99568635 1.11324907 0.99843318 1.26272387 1.00300644\n",
      " 1.0539781  1.02232781 1.12262551 1.0323564  1.13218496 1.00413478\n",
      " 1.0269478  0.9969048  1.02952051 0.96135678 0.98526973 1.01525849\n",
      " 0.99750411 1.00677421 1.03914217 1.10396883 1.30212023 1.12053091\n",
      " 1.25502259 1.07087159 1.00454432 1.48738499 1.03940475 1.01658402\n",
      " 0.98916244 0.99081472 0.99921147 1.02115275 0.97029968 1.00290385\n",
      " 1.06698549 1.03190385 1.0337752  1.02626099 1.07756697 0.99525044\n",
      " 1.06249449 0.99542534 0.99778862 1.09547363 0.98360865 1.06984151\n",
      " 1.00163293 1.14059234 0.99625538 1.10962689 1.52614698 1.08001802\n",
      " 0.96368447 1.07128335 0.9845929  1.05383056 0.99236966 1.03482282\n",
      " 1.14929031 1.05720202 1.02238687 1.17071319 0.99217047 1.0714466\n",
      " 1.18110756 1.32422502 1.03467563 0.9615505  1.00535846 0.98385235\n",
      " 1.12041679 1.12337224 1.03221962 0.98851459 0.99682375 1.08003054\n",
      " 1.1083253  1.05138983 0.96411329 0.98481922 1.02050059 1.08147607\n",
      " 1.00745491 1.00688395 1.02248966 1.31351485 1.03125633 1.19913027\n",
      " 0.98740397 1.19280236 0.98913572 1.00582595 1.30383798 0.93884342\n",
      " 1.00323359 1.01661604 1.10291547 1.04042111 0.97409503 1.22091913\n",
      " 1.04389566 1.04645167 1.02438063 1.00146542 0.99618474 1.18219751\n",
      " 1.00767328 1.11376676 1.11546721 0.98353933 1.27909089 1.12489464\n",
      " 1.02092559 0.97965743 0.99455383 0.97407595 1.04043147 0.97992456\n",
      " 1.05446623 0.99636857 1.15198134 0.97188735 1.09333928 1.00094595\n",
      " 0.99444961 1.01426011 1.07529153 0.97936411 0.9841104  1.00833816\n",
      " 0.98959039 0.97900523 0.99538772 1.02008283 0.96557179 1.01213089\n",
      " 1.02947171 1.05563969 1.10564689 0.99412335 1.35442405 0.98977424\n",
      " 1.04804307 0.99254413 0.99136874 1.19190371 0.98703759 1.03846473\n",
      " 1.01769223 1.04259302 0.97636615 1.14246493 1.00911762 0.97459756\n",
      " 1.06654557 1.00417233 1.00071735 1.07880513 0.99507541 1.15284949\n",
      " 1.05675738 0.99401863 1.00061781 1.01468795 0.96424698 1.05904586\n",
      " 1.00801594 0.98689451 0.98696163 1.06992914 1.04334978 1.01158172\n",
      " 0.97420444 1.21315074 0.97249164 1.04077751 0.95288356 1.06009711\n",
      " 0.97767015 0.97139828 1.02797738 0.95339898 1.19989393 1.02438955\n",
      " 0.99585086 0.95174775 1.03490161 1.01859252 1.01870827 1.01591851\n",
      " 0.9824163  1.01470053 0.97728311 0.9942351  1.07540869 1.03990504\n",
      " 1.04539102 1.12678501 1.03582621 1.00493533 1.01019316 0.97081363\n",
      " 1.32450553 1.05916477 1.0343728  1.01272268 1.02765618 1.0923705\n",
      " 1.17037769 1.03409586 1.00926388 1.1357276  1.06147963 0.99339208\n",
      " 1.00793948 1.00704637 1.01481973 1.06231114 1.19088913 1.01325871\n",
      " 1.03850029 1.19784355 1.12891433 1.1032409  1.02035827 1.0421763\n",
      " 1.03267842 1.00358317 1.02566318 1.06954809 1.13233547 1.02202605\n",
      " 1.03089539 0.98748869 0.9730936  0.99694849 0.97965013 1.02658412\n",
      " 1.10795753 1.11718367 1.09208621 1.01221902 1.00023984 1.10264811\n",
      " 1.21245868 1.01009322 1.06366073 1.02979969 1.01036895 1.02246161\n",
      " 0.99219628 1.23660754 1.08442742 1.01859403 1.0127399  1.00893171\n",
      " 1.00731493 1.02397889 1.10594421 1.15278523 0.99420303 0.98832581\n",
      " 1.2614104  1.08250296 1.00723152 0.95372761 1.01709823 1.00966933\n",
      " 0.99152386 1.02143545 1.00052912 1.03924621 1.07822931 1.04680956\n",
      " 0.99388686 1.02737299 1.07952919 0.95412142 0.99612475 1.00465124\n",
      " 0.98953159 1.06186732 0.99110701 1.0347685  1.0003985  1.66957331\n",
      " 0.96540253 1.00162987 1.0010043  1.04391399 0.98747417 1.0143731\n",
      " 1.0063457  1.06244725 1.04460307 0.99576131 1.03399691 1.02762481\n",
      " 0.99860122 1.10909796 1.07210829 1.00816102 1.04447935 0.99745218\n",
      " 1.05378341 0.97470927 1.00968605 1.0937864  1.03760069 0.97407578\n",
      " 0.99491557 1.04623934 0.97288121 0.9969092  1.02280591 1.26350713\n",
      " 1.13546264 1.13079467 0.96277198 0.99586643 1.04119432 1.09251596\n",
      " 0.99695615 0.9695272  1.23563649 1.00838267 1.05038851 1.0411855\n",
      " 1.00693579 1.02864718 1.31568848 1.13310628 0.97411224 1.0368991\n",
      " 1.00818923 1.00696493 1.01182147 0.98244817 1.00140998 1.01254864\n",
      " 1.11745698 1.09969488 1.01810777 1.00832903 0.97552766 1.07715488\n",
      " 1.0170832  1.0505643  1.08658598 1.08648021 0.99293581 1.00296622\n",
      " 1.01671641 1.05163217 1.01812047 1.00328805 0.96498074 0.98550203\n",
      " 0.9821723  1.07075466 1.01481616 1.1210298  0.97096145 0.97424852\n",
      " 1.02229818 0.98008712 1.21159203 0.98544534 1.12226597 1.13529278\n",
      " 1.03765872 0.99053492 1.05431447 1.05622892 1.03286953 1.00002187\n",
      " 1.07234625 1.03391637 0.98666324 1.29916107 1.09241799 0.97985875\n",
      " 1.14403236 1.03519449 1.02141702 1.05354542 1.03980834 0.9726839\n",
      " 1.03347413 1.07445857 0.97345996 1.07889604 1.06610136 1.01081865\n",
      " 0.9832006  1.27444745]\n"
     ]
    }
   ],
   "source": [
    "# Output outlier scores for test data\n",
    "print(\"Outlier scores for test data:\", test_outlier_scores)"
   ]
  },
  {
   "cell_type": "code",
   "execution_count": 18,
   "id": "7c23c510",
   "metadata": {},
   "outputs": [
    {
     "data": {
      "image/png": "[encoded data removed]",
      "text/plain": [
       "<Figure size 640x480 with 1 Axes>"
      ]
     },
     "metadata": {},
     "output_type": "display_data"
    }
   ],
   "source": [
    "# Plot the histograms of the anomaly scores with threshold\n",
    "plt.hist(train_outlier_scores, bins=50, density=True, alpha=0.5, label='Training Data')\n",
    "plt.hist(test_outlier_scores, bins=50, density=True, alpha=0.5, label='Testing Data')\n",
    "plt.axvline(np.percentile(train_outlier_scores, 99), color='r', linestyle='dashed', linewidth=2, label='Threshold')\n",
    "plt.xlabel('Anomaly Score')\n",
    "plt.ylabel('Density')\n",
    "plt.title('Comparison of Predicted and Actual Test Data')\n",
    "plt.legend()\n",
    "plt.show()"
   ]
  },
  {
   "cell_type": "code",
   "execution_count": 19,
   "id": "ace58280",
   "metadata": {},
   "outputs": [
    {
     "data": {
      "image/png": "[encoded data removed]",
      "text/plain": [
       "<Figure size 640x480 with 1 Axes>"
      ]
     },
     "metadata": {},
     "output_type": "display_data"
    }
   ],
   "source": [
    "# Create a box plot for the test data\n",
    "plt.boxplot(test_outlier_scores, vert=False, labels=['Test Data'])\n",
    "plt.axvline(np.percentile(train_outlier_scores, 99), color='r', linestyle='dashed', linewidth=2, label='Threshold')\n",
    "plt.xlabel('Anomaly Score')\n",
    "plt.ylabel('Samples')\n",
    "plt.title('Comparison of Predicted and Actual Test Data')\n",
    "plt.legend()\n",
    "plt.show()"
   ]
  },
  {
   "cell_type": "code",
   "execution_count": 20,
   "id": "19411b7f",
   "metadata": {},
   "outputs": [
    {
     "data": {
      "image/png": "[encoded data removed]",
      "text/plain": [
       "<Figure size 640x480 with 1 Axes>"
      ]
     },
     "metadata": {},
     "output_type": "display_data"
    }
   ],
   "source": [
    "y_pred_test_lof = lof.predict(X_test_scaled)\n",
    "plt.scatter(y_test, y_pred_test_lof)\n",
    "plt.xlabel('Actual Values (Test)')\n",
    "plt.ylabel('Predicted Values (Test)')\n",
    "plt.title('Comparison of Predicted and Actual Test Data')\n",
    "plt.plot([min(y_test), max(y_test)], [min(y_test), max(y_test)], color='red')\n",
    "plt.show()"
   ]
  },
  {
   "cell_type": "code",
   "execution_count": 21,
   "id": "90bab67b",
   "metadata": {},
   "outputs": [
    {
     "data": {
      "image/png": "[encoded data removed]",
      "text/plain": [
       "<Figure size 640x480 with 1 Axes>"
      ]
     },
     "metadata": {},
     "output_type": "display_data"
    }
   ],
   "source": [
    "\n",
    "# Convert the string labels to numerical values\n",
    "le = LabelEncoder()\n",
    "y_test_num = le.fit_transform(y_test)\n",
    "\n",
    "# Plot the comparison between the actual and predicted values for the test data\n",
    "plt.scatter(y_test_num, y_pred_test_lof, label='Predicted Values (Test)')\n",
    "plt.axhline(y=np.percentile(y_test_num, 90), color='r', linestyle='dashed', linewidth=2, label='Outlier Threshold')\n",
    "plt.xlabel('Actual Values (Test)')\n",
    "plt.ylabel('Predicted Values (Test)')\n",
    "plt.title('Comparison of Predicted and Actual Test Data with Outlier Detection')\n",
    "plt.legend()\n",
    "plt.show()"
   ]
  },
  {
   "cell_type": "code",
   "execution_count": 22,
   "id": "2efae6f5",
   "metadata": {},
   "outputs": [
    {
     "ename": "IndentationError",
     "evalue": "unexpected indent (553046038.py, line 2)",
     "output_type": "error",
     "traceback": [
      "\u001b[1;36m  Cell \u001b[1;32mIn[22], line 2\u001b[1;36m\u001b[0m\n\u001b[1;33m    train_outliers = lof.predict(X_train_scaled)\u001b[0m\n\u001b[1;37m    ^\u001b[0m\n\u001b[1;31mIndentationError\u001b[0m\u001b[1;31m:\u001b[0m unexpected indent\n"
     ]
    }
   ],
   "source": [
    "# Identify the outliers\n",
    "    train_outliers = lof.predict(X_train_scaled)\n",
    "    test_outliers = lof.predict(X_test_scaled)\n",
    "\n",
    "    # Visualize the feature values of the outliers using a pairplot\n",
    "    train_outliers_df = pd.DataFrame(X_train_scaled[train_outliers == -1], columns=data.columns[:-1])\n",
    "    test_outliers_df = pd.DataFrame(X_test_scaled[test_outliers == -1], columns=data.columns[:-1])\n",
    "\n",
    "    plt.figure(figsize=(10, 6))\n",
    "    sns.pairplot(train_outliers_df, diag_kind='kde')\n",
    "    plt.suptitle('Pairplot of Train Outliers')\n",
    "    #st.pyplot()\n",
    "\n",
    "    plt.figure(figsize=(10, 6))\n",
    "    sns.pairplot(test_outliers_df, diag_kind='kde')\n",
    "    plt.suptitle('Pairplot of Test Outliers')\n",
    "    #st.pyplot()"
   ]
  }
 ],
 "metadata": {
  "kernelspec": {
   "display_name": "Python 3 (ipykernel)",
   "language": "python",
   "name": "python3"
  },
  "language_info": {
   "codemirror_mode": {
    "name": "ipython",
    "version": 3
   },
   "file_extension": ".py",
   "mimetype": "text/x-python",
   "name": "python",
   "nbconvert_exporter": "python",
   "pygments_lexer": "ipython3",
   "version": "3.11.7"
  }
 },
 "nbformat": 4,
 "nbformat_minor": 5
}
