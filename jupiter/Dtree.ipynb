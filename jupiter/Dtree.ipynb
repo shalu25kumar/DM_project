{
 "cells": [
  {
   "cell_type": "code",
   "execution_count": 1,
   "id": "9fc88b5c",
   "metadata": {},
   "outputs": [],
   "source": [
    "import pandas as pd\n",
    "from sklearn.tree import DecisionTreeClassifier\n",
    "from sklearn.model_selection import train_test_split\n",
    "from sklearn.metrics import accuracy_score\n",
    "from sklearn.preprocessing import MinMaxScaler"
   ]
  },
  {
   "cell_type": "code",
   "execution_count": 2,
   "id": "1719d515",
   "metadata": {},
   "outputs": [],
   "source": [
    "# Load the dataset\n",
    "csv_data = pd.read_csv('crop_recommendation.csv')\n"
   ]
  },
  {
   "cell_type": "code",
   "execution_count": 3,
   "id": "79f3e529",
   "metadata": {},
   "outputs": [
    {
     "data": {
      "text/html": [
       "<div>\n",
       "<style scoped>\n",
       "    .dataframe tbody tr th:only-of-type {\n",
       "        vertical-align: middle;\n",
       "    }\n",
       "\n",
       "    .dataframe tbody tr th {\n",
       "        vertical-align: top;\n",
       "    }\n",
       "\n",
       "    .dataframe thead th {\n",
       "        text-align: right;\n",
       "    }\n",
       "</style>\n",
       "<table border=\"1\" class=\"dataframe\">\n",
       "  <thead>\n",
       "    <tr style=\"text-align: right;\">\n",
       "      <th></th>\n",
       "      <th>N</th>\n",
       "      <th>P</th>\n",
       "      <th>K</th>\n",
       "      <th>temperature</th>\n",
       "      <th>humidity</th>\n",
       "      <th>ph</th>\n",
       "      <th>rainfall</th>\n",
       "      <th>label</th>\n",
       "    </tr>\n",
       "  </thead>\n",
       "  <tbody>\n",
       "    <tr>\n",
       "      <th>0</th>\n",
       "      <td>90</td>\n",
       "      <td>42</td>\n",
       "      <td>43</td>\n",
       "      <td>20.879744</td>\n",
       "      <td>82.002744</td>\n",
       "      <td>6.502985</td>\n",
       "      <td>202.935536</td>\n",
       "      <td>rice</td>\n",
       "    </tr>\n",
       "    <tr>\n",
       "      <th>1</th>\n",
       "      <td>85</td>\n",
       "      <td>58</td>\n",
       "      <td>41</td>\n",
       "      <td>21.770462</td>\n",
       "      <td>80.319644</td>\n",
       "      <td>7.038096</td>\n",
       "      <td>226.655537</td>\n",
       "      <td>rice</td>\n",
       "    </tr>\n",
       "    <tr>\n",
       "      <th>2</th>\n",
       "      <td>60</td>\n",
       "      <td>55</td>\n",
       "      <td>44</td>\n",
       "      <td>23.004459</td>\n",
       "      <td>82.320763</td>\n",
       "      <td>7.840207</td>\n",
       "      <td>263.964248</td>\n",
       "      <td>rice</td>\n",
       "    </tr>\n",
       "    <tr>\n",
       "      <th>3</th>\n",
       "      <td>74</td>\n",
       "      <td>35</td>\n",
       "      <td>40</td>\n",
       "      <td>26.491096</td>\n",
       "      <td>80.158363</td>\n",
       "      <td>6.980401</td>\n",
       "      <td>242.864034</td>\n",
       "      <td>rice</td>\n",
       "    </tr>\n",
       "    <tr>\n",
       "      <th>4</th>\n",
       "      <td>78</td>\n",
       "      <td>42</td>\n",
       "      <td>42</td>\n",
       "      <td>20.130175</td>\n",
       "      <td>81.604873</td>\n",
       "      <td>7.628473</td>\n",
       "      <td>262.717340</td>\n",
       "      <td>rice</td>\n",
       "    </tr>\n",
       "    <tr>\n",
       "      <th>...</th>\n",
       "      <td>...</td>\n",
       "      <td>...</td>\n",
       "      <td>...</td>\n",
       "      <td>...</td>\n",
       "      <td>...</td>\n",
       "      <td>...</td>\n",
       "      <td>...</td>\n",
       "      <td>...</td>\n",
       "    </tr>\n",
       "    <tr>\n",
       "      <th>2195</th>\n",
       "      <td>107</td>\n",
       "      <td>34</td>\n",
       "      <td>32</td>\n",
       "      <td>26.774637</td>\n",
       "      <td>66.413269</td>\n",
       "      <td>6.780064</td>\n",
       "      <td>177.774507</td>\n",
       "      <td>coffee</td>\n",
       "    </tr>\n",
       "    <tr>\n",
       "      <th>2196</th>\n",
       "      <td>99</td>\n",
       "      <td>15</td>\n",
       "      <td>27</td>\n",
       "      <td>27.417112</td>\n",
       "      <td>56.636362</td>\n",
       "      <td>6.086922</td>\n",
       "      <td>127.924610</td>\n",
       "      <td>coffee</td>\n",
       "    </tr>\n",
       "    <tr>\n",
       "      <th>2197</th>\n",
       "      <td>118</td>\n",
       "      <td>33</td>\n",
       "      <td>30</td>\n",
       "      <td>24.131797</td>\n",
       "      <td>67.225123</td>\n",
       "      <td>6.362608</td>\n",
       "      <td>173.322839</td>\n",
       "      <td>coffee</td>\n",
       "    </tr>\n",
       "    <tr>\n",
       "      <th>2198</th>\n",
       "      <td>117</td>\n",
       "      <td>32</td>\n",
       "      <td>34</td>\n",
       "      <td>26.272418</td>\n",
       "      <td>52.127394</td>\n",
       "      <td>6.758793</td>\n",
       "      <td>127.175293</td>\n",
       "      <td>coffee</td>\n",
       "    </tr>\n",
       "    <tr>\n",
       "      <th>2199</th>\n",
       "      <td>104</td>\n",
       "      <td>18</td>\n",
       "      <td>30</td>\n",
       "      <td>23.603016</td>\n",
       "      <td>60.396475</td>\n",
       "      <td>6.779833</td>\n",
       "      <td>140.937041</td>\n",
       "      <td>coffee</td>\n",
       "    </tr>\n",
       "  </tbody>\n",
       "</table>\n",
       "<p>2200 rows × 8 columns</p>\n",
       "</div>"
      ],
      "text/plain": [
       "        N   P   K  temperature   humidity        ph    rainfall   label\n",
       "0      90  42  43    20.879744  82.002744  6.502985  202.935536    rice\n",
       "1      85  58  41    21.770462  80.319644  7.038096  226.655537    rice\n",
       "2      60  55  44    23.004459  82.320763  7.840207  263.964248    rice\n",
       "3      74  35  40    26.491096  80.158363  6.980401  242.864034    rice\n",
       "4      78  42  42    20.130175  81.604873  7.628473  262.717340    rice\n",
       "...   ...  ..  ..          ...        ...       ...         ...     ...\n",
       "2195  107  34  32    26.774637  66.413269  6.780064  177.774507  coffee\n",
       "2196   99  15  27    27.417112  56.636362  6.086922  127.924610  coffee\n",
       "2197  118  33  30    24.131797  67.225123  6.362608  173.322839  coffee\n",
       "2198  117  32  34    26.272418  52.127394  6.758793  127.175293  coffee\n",
       "2199  104  18  30    23.603016  60.396475  6.779833  140.937041  coffee\n",
       "\n",
       "[2200 rows x 8 columns]"
      ]
     },
     "execution_count": 3,
     "metadata": {},
     "output_type": "execute_result"
    }
   ],
   "source": [
    "csv_data"
   ]
  },
  {
   "cell_type": "code",
   "execution_count": 4,
   "id": "27f994ee",
   "metadata": {},
   "outputs": [],
   "source": [
    "# Extract the features and label columns\n",
    "X = csv_data.drop('label', axis=1).values\n",
    "y = csv_data['label'].values"
   ]
  },
  {
   "cell_type": "code",
   "execution_count": 5,
   "id": "77aa68d7",
   "metadata": {},
   "outputs": [
    {
     "data": {
      "text/plain": [
       "array([[ 90.        ,  42.        ,  43.        , ...,  82.00274423,\n",
       "          6.50298529, 202.9355362 ],\n",
       "       [ 85.        ,  58.        ,  41.        , ...,  80.31964408,\n",
       "          7.03809636, 226.6555374 ],\n",
       "       [ 60.        ,  55.        ,  44.        , ...,  82.3207629 ,\n",
       "          7.84020714, 263.9642476 ],\n",
       "       ...,\n",
       "       [118.        ,  33.        ,  30.        , ...,  67.22512329,\n",
       "          6.36260785, 173.3228386 ],\n",
       "       [117.        ,  32.        ,  34.        , ...,  52.12739421,\n",
       "          6.75879255, 127.1752928 ],\n",
       "       [104.        ,  18.        ,  30.        , ...,  60.39647474,\n",
       "          6.77983261, 140.9370415 ]])"
      ]
     },
     "execution_count": 5,
     "metadata": {},
     "output_type": "execute_result"
    }
   ],
   "source": [
    "X"
   ]
  },
  {
   "cell_type": "code",
   "execution_count": 6,
   "id": "0cc97498",
   "metadata": {},
   "outputs": [
    {
     "data": {
      "text/plain": [
       "array(['rice', 'rice', 'rice', ..., 'coffee', 'coffee', 'coffee'],\n",
       "      dtype=object)"
      ]
     },
     "execution_count": 6,
     "metadata": {},
     "output_type": "execute_result"
    }
   ],
   "source": [
    "y"
   ]
  },
  {
   "cell_type": "code",
   "execution_count": 7,
   "id": "4aa13209",
   "metadata": {},
   "outputs": [],
   "source": [
    "# Split the data into training and test sets\n",
    "X_train, X_test, y_train, y_test = train_test_split(X, y, test_size=0.2, random_state=42)\n"
   ]
  },
  {
   "cell_type": "code",
   "execution_count": 8,
   "id": "68b93f00",
   "metadata": {},
   "outputs": [
    {
     "data": {
      "text/plain": [
       "array([[ 17.        ,  16.        ,  14.        , ...,  92.18151927,\n",
       "          6.62553865, 102.944161  ],\n",
       "       [ 37.        ,  79.        ,  19.        , ...,  69.3478631 ,\n",
       "          7.14394276,  69.40878198],\n",
       "       [  7.        ,  73.        ,  25.        , ...,  63.13215259,\n",
       "          7.28805662,  45.20841071],\n",
       "       ...,\n",
       "       [ 11.        ,  36.        ,  31.        , ...,  51.77965917,\n",
       "          6.47544932, 100.2585673 ],\n",
       "       [ 11.        , 124.        , 204.        , ...,  80.06633966,\n",
       "          6.36114111,  71.40043037],\n",
       "       [ 32.        ,  78.        ,  22.        , ...,  62.35557553,\n",
       "          7.00703752,  53.40906048]])"
      ]
     },
     "execution_count": 8,
     "metadata": {},
     "output_type": "execute_result"
    }
   ],
   "source": [
    "X_train"
   ]
  },
  {
   "cell_type": "code",
   "execution_count": 9,
   "id": "74c4d9cd",
   "metadata": {},
   "outputs": [
    {
     "data": {
      "text/plain": [
       "array(['orange', 'blackgram', 'lentil', ..., 'mango', 'grapes', 'lentil'],\n",
       "      dtype=object)"
      ]
     },
     "execution_count": 9,
     "metadata": {},
     "output_type": "execute_result"
    }
   ],
   "source": [
    "y_train"
   ]
  },
  {
   "cell_type": "code",
   "execution_count": 10,
   "id": "9555e3bf",
   "metadata": {},
   "outputs": [
    {
     "data": {
      "text/plain": [
       "array([[101.        ,  17.        ,  47.        , ...,  94.72981338,\n",
       "          6.18505323,  26.30820876],\n",
       "       [ 98.        ,   8.        ,  51.        , ...,  86.52258079,\n",
       "          6.25933595,  49.43050977],\n",
       "       [ 59.        ,  62.        ,  49.        , ...,  93.35191636,\n",
       "          6.94149681, 114.778071  ],\n",
       "       ...,\n",
       "       [121.        ,  47.        ,  16.        , ...,  79.29573149,\n",
       "          7.72324015,  72.49800885],\n",
       "       [116.        ,  52.        ,  19.        , ...,  75.37170612,\n",
       "          6.11452588,  67.08022574],\n",
       "       [  5.        ,  68.        ,  20.        , ...,  33.10695144,\n",
       "          6.12166671, 155.3705624 ]])"
      ]
     },
     "execution_count": 10,
     "metadata": {},
     "output_type": "execute_result"
    }
   ],
   "source": [
    "X_test"
   ]
  },
  {
   "cell_type": "code",
   "execution_count": 11,
   "id": "68e62e0a",
   "metadata": {},
   "outputs": [
    {
     "data": {
      "text/plain": [
       "array(['muskmelon', 'watermelon', 'papaya', 'papaya', 'apple', 'mango',\n",
       "       'apple', 'mothbeans', 'mungbean', 'lentil', 'blackgram', 'coconut',\n",
       "       'pomegranate', 'jute', 'coconut', 'pomegranate', 'apple', 'maize',\n",
       "       'papaya', 'muskmelon', 'coffee', 'papaya', 'orange', 'papaya',\n",
       "       'chickpea', 'jute', 'mungbean', 'orange', 'pigeonpeas', 'rice',\n",
       "       'pomegranate', 'mothbeans', 'jute', 'lentil', 'jute', 'blackgram',\n",
       "       'jute', 'chickpea', 'chickpea', 'kidneybeans', 'papaya', 'mango',\n",
       "       'blackgram', 'maize', 'mungbean', 'maize', 'pigeonpeas', 'coconut',\n",
       "       'muskmelon', 'maize', 'blackgram', 'coffee', 'grapes', 'mungbean',\n",
       "       'coffee', 'kidneybeans', 'cotton', 'apple', 'banana', 'blackgram',\n",
       "       'watermelon', 'coconut', 'lentil', 'orange', 'papaya',\n",
       "       'pigeonpeas', 'orange', 'rice', 'muskmelon', 'pigeonpeas',\n",
       "       'muskmelon', 'coconut', 'jute', 'banana', 'blackgram', 'papaya',\n",
       "       'banana', 'cotton', 'watermelon', 'orange', 'coffee', 'chickpea',\n",
       "       'rice', 'mothbeans', 'orange', 'mango', 'coffee', 'mothbeans',\n",
       "       'blackgram', 'pomegranate', 'maize', 'mothbeans', 'cotton',\n",
       "       'papaya', 'pigeonpeas', 'mothbeans', 'kidneybeans', 'coffee',\n",
       "       'blackgram', 'lentil', 'coconut', 'rice', 'orange', 'muskmelon',\n",
       "       'watermelon', 'kidneybeans', 'watermelon', 'banana', 'pigeonpeas',\n",
       "       'mothbeans', 'banana', 'jute', 'cotton', 'pomegranate',\n",
       "       'pigeonpeas', 'chickpea', 'maize', 'coconut', 'pomegranate',\n",
       "       'rice', 'pigeonpeas', 'grapes', 'blackgram', 'coconut', 'chickpea',\n",
       "       'blackgram', 'coconut', 'maize', 'banana', 'mothbeans', 'banana',\n",
       "       'kidneybeans', 'pomegranate', 'chickpea', 'coconut', 'orange',\n",
       "       'pigeonpeas', 'banana', 'banana', 'apple', 'kidneybeans',\n",
       "       'muskmelon', 'mungbean', 'mothbeans', 'coconut', 'maize', 'apple',\n",
       "       'coconut', 'kidneybeans', 'mothbeans', 'mungbean', 'lentil',\n",
       "       'watermelon', 'mungbean', 'pigeonpeas', 'pigeonpeas', 'pigeonpeas',\n",
       "       'kidneybeans', 'maize', 'jute', 'chickpea', 'apple', 'orange',\n",
       "       'cotton', 'rice', 'coconut', 'grapes', 'lentil', 'watermelon',\n",
       "       'grapes', 'grapes', 'blackgram', 'pomegranate', 'chickpea',\n",
       "       'coconut', 'maize', 'lentil', 'grapes', 'watermelon', 'jute',\n",
       "       'coffee', 'coffee', 'kidneybeans', 'jute', 'mothbeans',\n",
       "       'kidneybeans', 'banana', 'kidneybeans', 'coconut', 'papaya',\n",
       "       'papaya', 'mungbean', 'mango', 'pomegranate', 'watermelon',\n",
       "       'kidneybeans', 'maize', 'apple', 'blackgram', 'chickpea', 'grapes',\n",
       "       'grapes', 'banana', 'cotton', 'rice', 'pomegranate', 'mungbean',\n",
       "       'banana', 'jute', 'mungbean', 'maize', 'chickpea', 'chickpea',\n",
       "       'chickpea', 'apple', 'rice', 'kidneybeans', 'papaya', 'coffee',\n",
       "       'blackgram', 'kidneybeans', 'mango', 'mango', 'coconut', 'papaya',\n",
       "       'apple', 'chickpea', 'pomegranate', 'chickpea', 'muskmelon',\n",
       "       'apple', 'muskmelon', 'muskmelon', 'mango', 'mango', 'cotton',\n",
       "       'coconut', 'pomegranate', 'rice', 'muskmelon', 'coffee', 'papaya',\n",
       "       'mothbeans', 'maize', 'mango', 'muskmelon', 'pigeonpeas',\n",
       "       'mungbean', 'coffee', 'grapes', 'coconut', 'cotton', 'pigeonpeas',\n",
       "       'rice', 'apple', 'pomegranate', 'coffee', 'chickpea', 'cotton',\n",
       "       'jute', 'mango', 'banana', 'papaya', 'apple', 'chickpea', 'rice',\n",
       "       'pigeonpeas', 'mothbeans', 'mungbean', 'jute', 'pomegranate',\n",
       "       'grapes', 'mothbeans', 'jute', 'maize', 'coconut', 'maize',\n",
       "       'chickpea', 'banana', 'rice', 'coconut', 'jute', 'mango',\n",
       "       'muskmelon', 'apple', 'banana', 'pigeonpeas', 'blackgram',\n",
       "       'orange', 'chickpea', 'watermelon', 'banana', 'apple', 'chickpea',\n",
       "       'coffee', 'pigeonpeas', 'orange', 'apple', 'coconut', 'papaya',\n",
       "       'watermelon', 'mothbeans', 'papaya', 'chickpea', 'pomegranate',\n",
       "       'chickpea', 'papaya', 'lentil', 'apple', 'pomegranate', 'chickpea',\n",
       "       'mango', 'chickpea', 'pomegranate', 'watermelon', 'kidneybeans',\n",
       "       'mungbean', 'muskmelon', 'watermelon', 'kidneybeans', 'muskmelon',\n",
       "       'mango', 'rice', 'blackgram', 'chickpea', 'banana', 'blackgram',\n",
       "       'pigeonpeas', 'papaya', 'pigeonpeas', 'mungbean', 'coconut',\n",
       "       'cotton', 'grapes', 'apple', 'lentil', 'banana', 'jute', 'apple',\n",
       "       'pomegranate', 'apple', 'mungbean', 'muskmelon', 'coffee',\n",
       "       'coffee', 'pigeonpeas', 'jute', 'kidneybeans', 'banana', 'maize',\n",
       "       'jute', 'maize', 'pigeonpeas', 'mango', 'kidneybeans',\n",
       "       'pomegranate', 'watermelon', 'blackgram', 'maize', 'rice',\n",
       "       'mothbeans', 'kidneybeans', 'mango', 'cotton', 'papaya',\n",
       "       'mothbeans', 'cotton', 'mungbean', 'orange', 'jute', 'blackgram',\n",
       "       'mungbean', 'coffee', 'banana', 'pigeonpeas', 'papaya', 'apple',\n",
       "       'pomegranate', 'maize', 'mango', 'coconut', 'apple', 'lentil',\n",
       "       'jute', 'mothbeans', 'lentil', 'coconut', 'blackgram', 'jute',\n",
       "       'mungbean', 'cotton', 'watermelon', 'apple', 'grapes', 'coconut',\n",
       "       'grapes', 'watermelon', 'rice', 'mango', 'mango', 'coffee',\n",
       "       'pomegranate', 'banana', 'grapes', 'jute', 'orange', 'cotton',\n",
       "       'mango', 'papaya', 'muskmelon', 'mothbeans', 'jute', 'chickpea',\n",
       "       'mothbeans', 'pomegranate', 'watermelon', 'mothbeans', 'cotton',\n",
       "       'papaya', 'watermelon', 'mothbeans', 'rice', 'coconut',\n",
       "       'mothbeans', 'mothbeans', 'maize', 'rice', 'maize', 'coconut',\n",
       "       'orange', 'pomegranate', 'kidneybeans', 'watermelon', 'mungbean',\n",
       "       'blackgram', 'rice', 'rice', 'cotton', 'cotton', 'pigeonpeas'],\n",
       "      dtype=object)"
      ]
     },
     "execution_count": 11,
     "metadata": {},
     "output_type": "execute_result"
    }
   ],
   "source": [
    "y_test"
   ]
  },
  {
   "cell_type": "code",
   "execution_count": 12,
   "id": "e0d624d8",
   "metadata": {},
   "outputs": [],
   "source": [
    "\n",
    "# Scale the features using Min-Max Scaling\n",
    "scaler = MinMaxScaler()\n",
    "X_train_scaled = scaler.fit_transform(X_train)\n",
    "X_test_scaled = scaler.transform(X_test)\n"
   ]
  },
  {
   "cell_type": "code",
   "execution_count": null,
   "id": "f4e28248",
   "metadata": {},
   "outputs": [],
   "source": []
  },
  {
   "cell_type": "code",
   "execution_count": 13,
   "id": "714efab6",
   "metadata": {},
   "outputs": [
    {
     "data": {
      "text/plain": [
       "array([[0.12142857, 0.07857143, 0.045     , ..., 0.9089898 , 0.48532225,\n",
       "        0.29685161],\n",
       "       [0.26428571, 0.52857143, 0.07      , ..., 0.64257946, 0.56594073,\n",
       "        0.17630752],\n",
       "       [0.05      , 0.48571429, 0.1       , ..., 0.57005802, 0.58835229,\n",
       "        0.08931844],\n",
       "       ...,\n",
       "       [0.07857143, 0.22142857, 0.13      , ..., 0.43760347, 0.46198144,\n",
       "        0.28719815],\n",
       "       [0.07857143, 0.85      , 0.995     , ..., 0.76763665, 0.44420505,\n",
       "        0.18346657],\n",
       "       [0.22857143, 0.52142857, 0.085     , ..., 0.56099735, 0.54465022,\n",
       "        0.11879596]])"
      ]
     },
     "execution_count": 13,
     "metadata": {},
     "output_type": "execute_result"
    }
   ],
   "source": [
    "X_train_scaled"
   ]
  },
  {
   "cell_type": "code",
   "execution_count": 14,
   "id": "ce08feb3",
   "metadata": {},
   "outputs": [
    {
     "data": {
      "text/plain": [
       "array([[0.72142857, 0.08571429, 0.21      , ..., 0.93872187, 0.41682113,\n",
       "        0.021381  ],\n",
       "       [0.7       , 0.02142857, 0.23      , ..., 0.84296447, 0.42837304,\n",
       "        0.10449492],\n",
       "       [0.42142857, 0.40714286, 0.22      , ..., 0.92264534, 0.5344578 ,\n",
       "        0.33938901],\n",
       "       ...,\n",
       "       [0.86428571, 0.3       , 0.055     , ..., 0.75864563, 0.6560289 ,\n",
       "        0.18741185],\n",
       "       [0.82857143, 0.33571429, 0.07      , ..., 0.71286229, 0.40585322,\n",
       "        0.16793744],\n",
       "       [0.03571429, 0.45      , 0.075     , ..., 0.21974075, 0.40696371,\n",
       "        0.48530014]])"
      ]
     },
     "execution_count": 14,
     "metadata": {},
     "output_type": "execute_result"
    }
   ],
   "source": [
    "X_test_scaled"
   ]
  },
  {
   "cell_type": "code",
   "execution_count": 15,
   "id": "1825ebcf",
   "metadata": {},
   "outputs": [
    {
     "data": {
      "text/html": [
       "<style>#sk-container-id-1 {color: black;background-color: white;}#sk-container-id-1 pre{padding: 0;}#sk-container-id-1 div.sk-toggleable {background-color: white;}#sk-container-id-1 label.sk-toggleable__label {cursor: pointer;display: block;width: 100%;margin-bottom: 0;padding: 0.3em;box-sizing: border-box;text-align: center;}#sk-container-id-1 label.sk-toggleable__label-arrow:before {content: \"▸\";float: left;margin-right: 0.25em;color: #696969;}#sk-container-id-1 label.sk-toggleable__label-arrow:hover:before {color: black;}#sk-container-id-1 div.sk-estimator:hover label.sk-toggleable__label-arrow:before {color: black;}#sk-container-id-1 div.sk-toggleable__content {max-height: 0;max-width: 0;overflow: hidden;text-align: left;background-color: #f0f8ff;}#sk-container-id-1 div.sk-toggleable__content pre {margin: 0.2em;color: black;border-radius: 0.25em;background-color: #f0f8ff;}#sk-container-id-1 input.sk-toggleable__control:checked~div.sk-toggleable__content {max-height: 200px;max-width: 100%;overflow: auto;}#sk-container-id-1 input.sk-toggleable__control:checked~label.sk-toggleable__label-arrow:before {content: \"▾\";}#sk-container-id-1 div.sk-estimator input.sk-toggleable__control:checked~label.sk-toggleable__label {background-color: #d4ebff;}#sk-container-id-1 div.sk-label input.sk-toggleable__control:checked~label.sk-toggleable__label {background-color: #d4ebff;}#sk-container-id-1 input.sk-hidden--visually {border: 0;clip: rect(1px 1px 1px 1px);clip: rect(1px, 1px, 1px, 1px);height: 1px;margin: -1px;overflow: hidden;padding: 0;position: absolute;width: 1px;}#sk-container-id-1 div.sk-estimator {font-family: monospace;background-color: #f0f8ff;border: 1px dotted black;border-radius: 0.25em;box-sizing: border-box;margin-bottom: 0.5em;}#sk-container-id-1 div.sk-estimator:hover {background-color: #d4ebff;}#sk-container-id-1 div.sk-parallel-item::after {content: \"\";width: 100%;border-bottom: 1px solid gray;flex-grow: 1;}#sk-container-id-1 div.sk-label:hover label.sk-toggleable__label {background-color: #d4ebff;}#sk-container-id-1 div.sk-serial::before {content: \"\";position: absolute;border-left: 1px solid gray;box-sizing: border-box;top: 0;bottom: 0;left: 50%;z-index: 0;}#sk-container-id-1 div.sk-serial {display: flex;flex-direction: column;align-items: center;background-color: white;padding-right: 0.2em;padding-left: 0.2em;position: relative;}#sk-container-id-1 div.sk-item {position: relative;z-index: 1;}#sk-container-id-1 div.sk-parallel {display: flex;align-items: stretch;justify-content: center;background-color: white;position: relative;}#sk-container-id-1 div.sk-item::before, #sk-container-id-1 div.sk-parallel-item::before {content: \"\";position: absolute;border-left: 1px solid gray;box-sizing: border-box;top: 0;bottom: 0;left: 50%;z-index: -1;}#sk-container-id-1 div.sk-parallel-item {display: flex;flex-direction: column;z-index: 1;position: relative;background-color: white;}#sk-container-id-1 div.sk-parallel-item:first-child::after {align-self: flex-end;width: 50%;}#sk-container-id-1 div.sk-parallel-item:last-child::after {align-self: flex-start;width: 50%;}#sk-container-id-1 div.sk-parallel-item:only-child::after {width: 0;}#sk-container-id-1 div.sk-dashed-wrapped {border: 1px dashed gray;margin: 0 0.4em 0.5em 0.4em;box-sizing: border-box;padding-bottom: 0.4em;background-color: white;}#sk-container-id-1 div.sk-label label {font-family: monospace;font-weight: bold;display: inline-block;line-height: 1.2em;}#sk-container-id-1 div.sk-label-container {text-align: center;}#sk-container-id-1 div.sk-container {/* jupyter's `normalize.less` sets `[hidden] { display: none; }` but bootstrap.min.css set `[hidden] { display: none !important; }` so we also need the `!important` here to be able to override the default hidden behavior on the sphinx rendered scikit-learn.org. See: https://github.com/scikit-learn/scikit-learn/issues/21755 */display: inline-block !important;position: relative;}#sk-container-id-1 div.sk-text-repr-fallback {display: none;}</style><div id=\"sk-container-id-1\" class=\"sk-top-container\"><div class=\"sk-text-repr-fallback\"><pre>DecisionTreeClassifier(random_state=42)</pre><b>In a Jupyter environment, please rerun this cell to show the HTML representation or trust the notebook. <br />On GitHub, the HTML representation is unable to render, please try loading this page with nbviewer.org.</b></div><div class=\"sk-container\" hidden><div class=\"sk-item\"><div class=\"sk-estimator sk-toggleable\"><input class=\"sk-toggleable__control sk-hidden--visually\" id=\"sk-estimator-id-1\" type=\"checkbox\" checked><label for=\"sk-estimator-id-1\" class=\"sk-toggleable__label sk-toggleable__label-arrow\">DecisionTreeClassifier</label><div class=\"sk-toggleable__content\"><pre>DecisionTreeClassifier(random_state=42)</pre></div></div></div></div></div>"
      ],
      "text/plain": [
       "DecisionTreeClassifier(random_state=42)"
      ]
     },
     "execution_count": 15,
     "metadata": {},
     "output_type": "execute_result"
    }
   ],
   "source": [
    "\n",
    "# Train the decision tree classifier\n",
    "dtree = DecisionTreeClassifier(random_state=42)\n",
    "dtree.fit(X_train_scaled, y_train)\n",
    "\n"
   ]
  },
  {
   "cell_type": "code",
   "execution_count": 16,
   "id": "bc8d928e",
   "metadata": {},
   "outputs": [
    {
     "data": {
      "text/plain": [
       "array(['orange', 'blackgram', 'lentil', ..., 'mango', 'grapes', 'lentil'],\n",
       "      dtype=object)"
      ]
     },
     "execution_count": 16,
     "metadata": {},
     "output_type": "execute_result"
    }
   ],
   "source": [
    "y_train"
   ]
  },
  {
   "cell_type": "code",
   "execution_count": 17,
   "id": "c7ba2e2a",
   "metadata": {},
   "outputs": [],
   "source": [
    "# Make predictions on the scaled test set\n",
    "y_pred_scaled = dtree.predict(X_test_scaled)\n"
   ]
  },
  {
   "cell_type": "code",
   "execution_count": 18,
   "id": "db21a3fc",
   "metadata": {},
   "outputs": [
    {
     "name": "stdout",
     "output_type": "stream",
     "text": [
      "Accuracy (scaled): 0.9863636363636363\n"
     ]
    }
   ],
   "source": [
    "\n",
    "# Evaluate the accuracy of the scaled model\n",
    "accuracy_scaled = accuracy_score(y_test, y_pred_scaled)\n",
    "print('Accuracy (scaled):', accuracy_scaled)\n"
   ]
  },
  {
   "cell_type": "code",
   "execution_count": 19,
   "id": "8b388759",
   "metadata": {},
   "outputs": [],
   "source": [
    "# Example new data for prediction\n",
    "new_data = [[25, 60, 80, 7.5, 0.2, 6.5, 0.5]]   # Example feature values for crop 2\n",
    "\n",
    "# Scale the new data using the same scaler object\n",
    "new_data_scaled = scaler.transform(new_data)"
   ]
  },
  {
   "cell_type": "code",
   "execution_count": 20,
   "id": "b1424275",
   "metadata": {},
   "outputs": [
    {
     "data": {
      "text/plain": [
       "array(['muskmelon'], dtype=object)"
      ]
     },
     "execution_count": 20,
     "metadata": {},
     "output_type": "execute_result"
    }
   ],
   "source": [
    "value=dtree.predict(new_data_scaled)\n",
    "value"
   ]
  },
  {
   "cell_type": "code",
   "execution_count": null,
   "id": "5216d9cd",
   "metadata": {},
   "outputs": [],
   "source": []
  },
  {
   "cell_type": "code",
   "execution_count": 21,
   "id": "be7a3112-cfd5-4880-ad28-4f2c37ccd3d8",
   "metadata": {},
   "outputs": [],
   "source": [
    "def predictDtree(N, P, K, temp, hum, ph, rainfall):\n",
    "    import pandas as pd\n",
    "    from sklearn.tree import DecisionTreeClassifier\n",
    "    from sklearn.model_selection import train_test_split\n",
    "    from sklearn.metrics import accuracy_score\n",
    "    from sklearn.preprocessing import MinMaxScaler\n",
    "    # Load the dataset\n",
    "    csv_data = pd.read_csv('crop_recommendation.csv')\n",
    "    # Extract the features and label columns\n",
    "    X = csv_data.drop('label', axis=1).values\n",
    "    y = csv_data['label'].values\n",
    "    # Split the data into training and test sets\n",
    "    X_train, X_test, y_train, y_test = train_test_split(X, y, test_size=0.2, random_state=20)\n",
    "    \n",
    "    # Scale the features using Min-Max Scaling\n",
    "    scaler = MinMaxScaler()\n",
    "    X_train_scaled = scaler.fit_transform(X_train)\n",
    "    X_test_scaled = scaler.transform(X_test)\n",
    "    \n",
    "    # Scale the features using Min-Max Scaling\n",
    "    scaler = MinMaxScaler()\n",
    "    X_train_scaled = scaler.fit_transform(X_train)\n",
    "    X_test_scaled = scaler.transform(X_test)\n",
    "    \n",
    "    new_data = [[N, P, K, temp, hum, ph, rainfall]]   \n",
    "    new_data_scaled = scaler.transform(new_data)\n",
    "    value=dtree.predict(new_data_scaled)\n",
    "    return value\n",
    "\n",
    "    \n",
    "\n",
    "    \n",
    "\n",
    "\n",
    "    \n",
    "    \n",
    "\n",
    "\n"
   ]
  },
  {
   "cell_type": "code",
   "execution_count": 22,
   "id": "ad67ae91-ba20-4ea7-b5e8-709bed643d3c",
   "metadata": {},
   "outputs": [
    {
     "data": {
      "text/plain": [
       "array(['rice'], dtype=object)"
      ]
     },
     "execution_count": 22,
     "metadata": {},
     "output_type": "execute_result"
    }
   ],
   "source": [
    "value=predictDtree(25, 60, 80, 7.5, 0.2, 6.5, 0.5)\n",
    "op=predictDtree(90,42,43,20,82,6.5,202)\n",
    "value\n",
    "op"
   ]
  },
  {
   "cell_type": "code",
   "execution_count": 24,
   "id": "cb387542-2428-4eb9-99eb-7a4a9b3ceb47",
   "metadata": {},
   "outputs": [
    {
     "name": "stdout",
     "output_type": "stream",
     "text": [
      "Accuracy: 0.9863636363636363\n"
     ]
    }
   ],
   "source": [
    "# Make predictions on the test set\n",
    "y_pred = dtree.predict(X_test_scaled)\n",
    "\n",
    "# Calculate accuracy score\n",
    "accuracy = accuracy_score(y_test, y_pred)\n",
    "\n",
    "print(\"Accuracy:\", accuracy)"
   ]
  },
  {
   "cell_type": "code",
   "execution_count": 25,
   "id": "8d08a459-9430-4998-868b-19d6376deb89",
   "metadata": {},
   "outputs": [],
   "source": [
    "from sklearn.metrics import precision_score, recall_score, f1_score, confusion_matrix, roc_curve, roc_auc_score\n",
    "\n",
    "# Calculate precision score\n",
    "precision = precision_score(y_test, y_pred, average='weighted')\n"
   ]
  },
  {
   "cell_type": "code",
   "execution_count": 26,
   "id": "a922d121-484f-4c2a-ab4f-18adf5d49eb1",
   "metadata": {},
   "outputs": [],
   "source": [
    "\n",
    "# Calculate recall score\n",
    "recall = recall_score(y_test, y_pred, average='weighted')\n",
    "\n",
    "\n"
   ]
  },
  {
   "cell_type": "code",
   "execution_count": 27,
   "id": "54094015-3321-47bb-8296-d06d21b2f944",
   "metadata": {},
   "outputs": [],
   "source": [
    "# Calculate F1 score\n",
    "f1 = f1_score(y_test, y_pred, average='weighted')\n",
    "\n"
   ]
  },
  {
   "cell_type": "code",
   "execution_count": 28,
   "id": "83f38866-a9ef-438e-b0f5-b0dca30fdb17",
   "metadata": {},
   "outputs": [],
   "source": [
    "# Calculate confusion matrix\n",
    "conf_matrix = confusion_matrix(y_test, y_pred)\n",
    "\n"
   ]
  },
  {
   "cell_type": "code",
   "execution_count": 31,
   "id": "6c22e08a-2750-45b7-b6d5-412f0a26c548",
   "metadata": {},
   "outputs": [
    {
     "name": "stdout",
     "output_type": "stream",
     "text": [
      "Accuracy: 0.9863636363636363\n",
      "Precision: 0.9868055555555556\n",
      "Recall: 0.9863636363636363\n",
      "F1 Score: 0.9863152866630287\n",
      "Confusion Matrix:\n",
      " [[23  0  0  0  0  0  0  0  0  0  0  0  0  0  0  0  0  0  0  0  0  0]\n",
      " [ 0 21  0  0  0  0  0  0  0  0  0  0  0  0  0  0  0  0  0  0  0  0]\n",
      " [ 0  0 20  0  0  0  0  0  0  0  0  0  0  0  0  0  0  0  0  0  0  0]\n",
      " [ 0  0  0 26  0  0  0  0  0  0  0  0  0  0  0  0  0  0  0  0  0  0]\n",
      " [ 0  0  0  0 27  0  0  0  0  0  0  0  0  0  0  0  0  0  0  0  0  0]\n",
      " [ 0  0  0  0  0 17  0  0  0  0  0  0  0  0  0  0  0  0  0  0  0  0]\n",
      " [ 0  0  0  0  0  0 17  0  0  0  0  0  0  0  0  0  0  0  0  0  0  0]\n",
      " [ 0  0  0  0  0  0  0 14  0  0  0  0  0  0  0  0  0  0  0  0  0  0]\n",
      " [ 0  0  0  0  0  0  0  0 22  0  0  0  0  0  0  0  0  0  0  0  1  0]\n",
      " [ 0  0  0  0  0  0  0  0  0 20  0  0  0  0  0  0  0  0  0  0  0  0]\n",
      " [ 0  0  0  0  0  0  0  0  0  0 11  0  0  0  0  0  0  0  0  0  0  0]\n",
      " [ 0  0  0  0  1  0  0  0  0  0  0 20  0  0  0  0  0  0  0  0  0  0]\n",
      " [ 0  0  0  0  0  0  0  0  0  0  0  0 19  0  0  0  0  0  0  0  0  0]\n",
      " [ 0  0  1  0  0  0  0  0  0  0  1  0  0 22  0  0  0  0  0  0  0  0]\n",
      " [ 0  0  0  0  0  0  0  0  0  0  0  0  0  0 19  0  0  0  0  0  0  0]\n",
      " [ 0  0  0  0  0  0  0  0  0  0  0  0  0  0  0 17  0  0  0  0  0  0]\n",
      " [ 0  0  0  0  0  0  0  0  0  0  0  0  0  0  0  0 14  0  0  0  0  0]\n",
      " [ 0  0  0  0  0  0  0  0  0  0  0  0  0  0  0  0  0 23  0  0  0  0]\n",
      " [ 0  0  0  0  0  0  0  0  0  0  0  0  0  0  0  0  0  0 23  0  0  0]\n",
      " [ 0  0  0  0  0  0  0  0  0  0  0  0  0  0  0  0  0  0  0 23  0  0]\n",
      " [ 0  0  0  0  0  0  0  0  2  0  0  0  0  0  0  0  0  0  0  0 17  0]\n",
      " [ 0  0  0  0  0  0  0  0  0  0  0  0  0  0  0  0  0  0  0  0  0 19]]\n"
     ]
    },
    {
     "ename": "NameError",
     "evalue": "name 'auc' is not defined",
     "output_type": "error",
     "traceback": [
      "\u001b[1;31m---------------------------------------------------------------------------\u001b[0m",
      "\u001b[1;31mNameError\u001b[0m                                 Traceback (most recent call last)",
      "Cell \u001b[1;32mIn[31], line 10\u001b[0m\n\u001b[0;32m      8\u001b[0m \u001b[38;5;28mprint\u001b[39m(\u001b[38;5;124m\"\u001b[39m\u001b[38;5;124mF1 Score:\u001b[39m\u001b[38;5;124m\"\u001b[39m, f1)\n\u001b[0;32m      9\u001b[0m \u001b[38;5;28mprint\u001b[39m(\u001b[38;5;124m\"\u001b[39m\u001b[38;5;124mConfusion Matrix:\u001b[39m\u001b[38;5;130;01m\\n\u001b[39;00m\u001b[38;5;124m\"\u001b[39m, conf_matrix)\n\u001b[1;32m---> 10\u001b[0m \u001b[38;5;28mprint\u001b[39m(\u001b[38;5;124m\"\u001b[39m\u001b[38;5;124mAUC:\u001b[39m\u001b[38;5;124m\"\u001b[39m, auc)\n",
      "\u001b[1;31mNameError\u001b[0m: name 'auc' is not defined"
     ]
    }
   ],
   "source": [
    "# Calculate ROC curve and AUC\n",
    "y_probs = dtree.predict_proba(X_test_scaled)[:, 1]\n",
    "\n",
    "\n",
    "print(\"Accuracy:\", accuracy)\n",
    "print(\"Precision:\", precision)\n",
    "print(\"Recall:\", recall)\n",
    "print(\"F1 Score:\", f1)\n",
    "print(\"Confusion Matrix:\\n\", conf_matrix)\n"
   ]
  },
  {
   "cell_type": "code",
   "execution_count": null,
   "id": "05cf892d-e1a9-4f52-bbfc-dd2a513c0f07",
   "metadata": {},
   "outputs": [],
   "source": []
  }
 ],
 "metadata": {
  "kernelspec": {
   "display_name": "Python 3 (ipykernel)",
   "language": "python",
   "name": "python3"
  },
  "language_info": {
   "codemirror_mode": {
    "name": "ipython",
    "version": 3
   },
   "file_extension": ".py",
   "mimetype": "text/x-python",
   "name": "python",
   "nbconvert_exporter": "python",
   "pygments_lexer": "ipython3",
   "version": "3.11.7"
  }
 },
 "nbformat": 4,
 "nbformat_minor": 5
}
